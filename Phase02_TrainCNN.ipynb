{
 "cells": [
  {
   "cell_type": "code",
   "execution_count": 1,
   "id": "c6a79ba3-6356-49d5-ab9f-c03045eaddfd",
   "metadata": {},
   "outputs": [],
   "source": [
    "import tensorflow as tf"
   ]
  },
  {
   "cell_type": "code",
   "execution_count": 2,
   "id": "09b7d0e1-7ac3-4043-b324-11f3f79e19c5",
   "metadata": {},
   "outputs": [],
   "source": [
    "from tensorflow import keras"
   ]
  },
  {
   "cell_type": "code",
   "execution_count": 3,
   "id": "df588463-e7fa-4096-a50d-0cc0a96ee01c",
   "metadata": {},
   "outputs": [],
   "source": [
    "# NOT USED\n",
    "# import keras_tuner as kt"
   ]
  },
  {
   "cell_type": "code",
   "execution_count": 4,
   "id": "54eb6e0d-571c-49cc-8c04-825e95a4fe91",
   "metadata": {},
   "outputs": [],
   "source": [
    "import numpy as np\n",
    "import matplotlib.pyplot as plt"
   ]
  },
  {
   "cell_type": "code",
   "execution_count": 5,
   "id": "ed62df7f-d0ab-42a4-bf9d-2763a0efb6f2",
   "metadata": {},
   "outputs": [],
   "source": [
    "import pandas as pd"
   ]
  },
  {
   "cell_type": "code",
   "execution_count": 6,
   "id": "e067d92e-c6f6-4b3f-a722-b7a22f452661",
   "metadata": {},
   "outputs": [],
   "source": [
    "#  for train_test_split() method\n",
    "import sklearn as sklearn"
   ]
  },
  {
   "cell_type": "code",
   "execution_count": 7,
   "id": "ff1adcb6-25b2-4d7c-a8b6-cb39362683ff",
   "metadata": {},
   "outputs": [],
   "source": [
    "#  for train_test_split() method\n",
    "from sklearn.model_selection import train_test_split"
   ]
  },
  {
   "cell_type": "code",
   "execution_count": 8,
   "id": "3fa16071-42c5-4bf3-8b1b-61c9a00a2769",
   "metadata": {},
   "outputs": [
    {
     "data": {
      "text/plain": [
       "'1.0.1'"
      ]
     },
     "execution_count": 8,
     "metadata": {},
     "output_type": "execute_result"
    }
   ],
   "source": [
    "sklearn.__version__"
   ]
  },
  {
   "cell_type": "code",
   "execution_count": 9,
   "id": "0db4888b-b9b9-4e14-bb37-7eacf8cc7903",
   "metadata": {},
   "outputs": [
    {
     "data": {
      "text/plain": [
       "'1.3.3'"
      ]
     },
     "execution_count": 9,
     "metadata": {},
     "output_type": "execute_result"
    }
   ],
   "source": [
    "pd.__version__"
   ]
  },
  {
   "cell_type": "code",
   "execution_count": null,
   "id": "af25a9cc-38cb-43b7-b0f0-d48cef70249d",
   "metadata": {},
   "outputs": [],
   "source": []
  },
  {
   "cell_type": "code",
   "execution_count": 10,
   "id": "4bea57f8-8217-4b30-96db-f3e36bf00aba",
   "metadata": {},
   "outputs": [],
   "source": [
    "def readucr(filename):\n",
    "    data = np.loadtxt(filename, delimiter=\",\")\n",
    "    y = data[:, 0]\n",
    "    x = data[:, 1:]\n",
    "    return x, y.astype(int)\n",
    "\n",
    "\n",
    "root_filename = \"Resampled_myData_Volume_Only.csv\"\n",
    "\n",
    "x_1, y_1 = readucr(root_filename )\n"
   ]
  },
  {
   "cell_type": "code",
   "execution_count": 11,
   "id": "9fbe6010-0db5-4a1c-bd09-3acb8ad2279f",
   "metadata": {},
   "outputs": [],
   "source": [
    "def readucr(filename):\n",
    "    data = np.loadtxt(filename, delimiter=\",\")\n",
    "    y = data[:, 0]\n",
    "    x = data[:, 1:]\n",
    "    return x, y.astype(int)\n",
    "\n",
    "\n",
    "root_filename = \"Resampled_myData_Flow_Only.csv\"\n",
    "\n",
    "x_2, y_2 = readucr(root_filename )"
   ]
  },
  {
   "cell_type": "code",
   "execution_count": 12,
   "id": "d06c05c6-5327-4919-9e22-99ee875db48c",
   "metadata": {},
   "outputs": [
    {
     "data": {
      "image/png": "[encoded data removed]",
      "text/plain": [
       "<Figure size 432x288 with 1 Axes>"
      ]
     },
     "metadata": {
      "needs_background": "light"
     },
     "output_type": "display_data"
    }
   ],
   "source": [
    "classes = np.unique(y_1)\n",
    "\n",
    "plt.figure()\n",
    "for c in classes:\n",
    "    c_x_train2 = x_2[y_2 == c]\n",
    "    plt.plot(c_x_train2[13], label=\"class \" + str(c))\n",
    "plt.legend(loc=\"best\")\n",
    "plt.show()\n",
    "plt.close()"
   ]
  },
  {
   "cell_type": "code",
   "execution_count": 13,
   "id": "e4486043-5457-4392-9886-bc2f4f3fec67",
   "metadata": {},
   "outputs": [
    {
     "data": {
      "text/plain": [
       "array([0, 1])"
      ]
     },
     "execution_count": 13,
     "metadata": {},
     "output_type": "execute_result"
    }
   ],
   "source": [
    "classes"
   ]
  },
  {
   "cell_type": "code",
   "execution_count": 14,
   "id": "5ec771be-7b88-4377-a206-d5b7fbe2a6a1",
   "metadata": {},
   "outputs": [],
   "source": [
    "x_all = np.concatenate((x_1[...,np.newaxis],x_2[...,np.newaxis]),axis=2)"
   ]
  },
  {
   "cell_type": "code",
   "execution_count": 15,
   "id": "9800c870-b570-404a-96df-8865ef30459d",
   "metadata": {},
   "outputs": [
    {
     "name": "stdout",
     "output_type": "stream",
     "text": [
      "2\n"
     ]
    }
   ],
   "source": [
    "num_classes = len(np.unique(y_1))\n",
    "print(num_classes)"
   ]
  },
  {
   "cell_type": "code",
   "execution_count": 16,
   "id": "a4a5cc69-f427-4c46-aa83-63fecc62b892",
   "metadata": {},
   "outputs": [],
   "source": [
    "idx = np.random.permutation(len(x_all))\n",
    "x_all = x_all[idx]\n",
    "y_1 = y_1[idx]"
   ]
  },
  {
   "cell_type": "code",
   "execution_count": 17,
   "id": "ac32351f-1278-4147-8343-4f9d9a8d57cb",
   "metadata": {},
   "outputs": [],
   "source": [
    "X_train, X_test, Y_train, Y_test = train_test_split(x_all, y_1, test_size=0.33, random_state=42)"
   ]
  },
  {
   "cell_type": "code",
   "execution_count": 18,
   "id": "70a1a4d7-1cde-489e-a04d-742d85bc92d3",
   "metadata": {},
   "outputs": [],
   "source": [
    "import pydot\n",
    "import graphviz"
   ]
  },
  {
   "cell_type": "code",
   "execution_count": 19,
   "id": "327d68b3-9986-46af-bf9c-a4ee3850673a",
   "metadata": {},
   "outputs": [
    {
     "name": "stderr",
     "output_type": "stream",
     "text": [
      "2022-01-05 12:32:38.666272: I tensorflow/core/platform/cpu_feature_guard.cc:142] This TensorFlow binary is optimized with oneAPI Deep Neural Network Library (oneDNN) to use the following CPU instructions in performance-critical operations:  AVX2 FMA\n",
      "To enable them in other operations, rebuild TensorFlow with the appropriate compiler flags.\n"
     ]
    }
   ],
   "source": [
    "def make_model(input_shape):\n",
    "    input_layer = keras.layers.Input(input_shape)\n",
    "\n",
    "    conv1 = keras.layers.Conv1D(filters=64, kernel_size=30, padding=\"same\")(input_layer)\n",
    "    conv1 = keras.layers.BatchNormalization()(conv1)\n",
    "    conv1 = keras.layers.ReLU()(conv1)\n",
    "\n",
    "    conv2 = keras.layers.Conv1D(filters=64, kernel_size=30, padding=\"same\")(conv1)\n",
    "    conv2 = keras.layers.BatchNormalization()(conv2)\n",
    "    conv2 = keras.layers.ReLU()(conv2)\n",
    "\n",
    "    conv3 = keras.layers.Conv1D(filters=64, kernel_size=30, padding=\"same\")(conv2)\n",
    "    conv3 = keras.layers.BatchNormalization()(conv3)\n",
    "    conv3 = keras.layers.ReLU()(conv3)\n",
    "\n",
    "    gap = keras.layers.GlobalAveragePooling1D()(conv3)\n",
    "\n",
    "    output_layer = keras.layers.Dense(num_classes, activation=\"softmax\")(gap)\n",
    "\n",
    "    return keras.models.Model(inputs=input_layer, outputs=output_layer)\n",
    "\n",
    "\n",
    "model = make_model(input_shape=X_train.shape[1:])\n",
    "#keras.utils.plot_model(model, show_shapes=True)"
   ]
  },
  {
   "cell_type": "code",
   "execution_count": 20,
   "id": "1d83d9aa-5752-4519-b45e-73ce2d41ec0c",
   "metadata": {},
   "outputs": [
    {
     "name": "stdout",
     "output_type": "stream",
     "text": [
      "Model: \"model\"\n",
      "_________________________________________________________________\n",
      "Layer (type)                 Output Shape              Param #   \n",
      "=================================================================\n",
      "input_1 (InputLayer)         [(None, 500, 2)]          0         \n",
      "_________________________________________________________________\n",
      "conv1d (Conv1D)              (None, 500, 64)           3904      \n",
      "_________________________________________________________________\n",
      "batch_normalization (BatchNo (None, 500, 64)           256       \n",
      "_________________________________________________________________\n",
      "re_lu (ReLU)                 (None, 500, 64)           0         \n",
      "_________________________________________________________________\n",
      "conv1d_1 (Conv1D)            (None, 500, 64)           122944    \n",
      "_________________________________________________________________\n",
      "batch_normalization_1 (Batch (None, 500, 64)           256       \n",
      "_________________________________________________________________\n",
      "re_lu_1 (ReLU)               (None, 500, 64)           0         \n",
      "_________________________________________________________________\n",
      "conv1d_2 (Conv1D)            (None, 500, 64)           122944    \n",
      "_________________________________________________________________\n",
      "batch_normalization_2 (Batch (None, 500, 64)           256       \n",
      "_________________________________________________________________\n",
      "re_lu_2 (ReLU)               (None, 500, 64)           0         \n",
      "_________________________________________________________________\n",
      "global_average_pooling1d (Gl (None, 64)                0         \n",
      "_________________________________________________________________\n",
      "dense (Dense)                (None, 2)                 130       \n",
      "=================================================================\n",
      "Total params: 250,690\n",
      "Trainable params: 250,306\n",
      "Non-trainable params: 384\n",
      "_________________________________________________________________\n"
     ]
    }
   ],
   "source": [
    "model.summary()"
   ]
  },
  {
   "cell_type": "code",
   "execution_count": 25,
   "id": "411dbcdc-57f1-48cb-b091-10213d983cac",
   "metadata": {},
   "outputs": [
    {
     "name": "stdout",
     "output_type": "stream",
     "text": [
      "Epoch 1/100\n",
      "11/11 [==============================] - 2s 89ms/step - loss: 0.4888 - sparse_categorical_accuracy: 0.7576 - val_loss: 0.2116 - val_sparse_categorical_accuracy: 0.8667\n",
      "Epoch 2/100\n",
      "11/11 [==============================] - 1s 74ms/step - loss: 0.2682 - sparse_categorical_accuracy: 0.8788 - val_loss: 0.3924 - val_sparse_categorical_accuracy: 0.8000\n",
      "Epoch 3/100\n",
      "11/11 [==============================] - 1s 66ms/step - loss: 0.5134 - sparse_categorical_accuracy: 0.7273 - val_loss: 0.2747 - val_sparse_categorical_accuracy: 0.8667\n",
      "Epoch 4/100\n",
      "11/11 [==============================] - 1s 86ms/step - loss: 0.3181 - sparse_categorical_accuracy: 0.8485 - val_loss: 1.0853 - val_sparse_categorical_accuracy: 0.8000\n",
      "Epoch 5/100\n",
      "11/11 [==============================] - 1s 114ms/step - loss: 0.4739 - sparse_categorical_accuracy: 0.8182 - val_loss: 1.0327 - val_sparse_categorical_accuracy: 0.8000\n",
      "Epoch 6/100\n",
      "11/11 [==============================] - 2s 167ms/step - loss: 0.3301 - sparse_categorical_accuracy: 0.7879 - val_loss: 0.2069 - val_sparse_categorical_accuracy: 0.8667\n",
      "Epoch 7/100\n",
      "11/11 [==============================] - 1s 107ms/step - loss: 0.3183 - sparse_categorical_accuracy: 0.8788 - val_loss: 0.3534 - val_sparse_categorical_accuracy: 0.8667\n",
      "Epoch 8/100\n",
      "11/11 [==============================] - 1s 122ms/step - loss: 0.2778 - sparse_categorical_accuracy: 0.8182 - val_loss: 0.5470 - val_sparse_categorical_accuracy: 0.8667\n",
      "Epoch 9/100\n",
      "11/11 [==============================] - 1s 119ms/step - loss: 0.5457 - sparse_categorical_accuracy: 0.8182 - val_loss: 0.4070 - val_sparse_categorical_accuracy: 0.8000\n",
      "Epoch 10/100\n",
      "11/11 [==============================] - 1s 109ms/step - loss: 0.3830 - sparse_categorical_accuracy: 0.8485 - val_loss: 1.8262 - val_sparse_categorical_accuracy: 0.5333\n",
      "Epoch 11/100\n",
      "11/11 [==============================] - 1s 105ms/step - loss: 0.4895 - sparse_categorical_accuracy: 0.8182 - val_loss: 1.1346 - val_sparse_categorical_accuracy: 0.6000\n",
      "Epoch 12/100\n",
      "11/11 [==============================] - 1s 133ms/step - loss: 0.3269 - sparse_categorical_accuracy: 0.8485 - val_loss: 0.8436 - val_sparse_categorical_accuracy: 0.6667\n",
      "Epoch 13/100\n",
      "11/11 [==============================] - 2s 144ms/step - loss: 0.2888 - sparse_categorical_accuracy: 0.9697 - val_loss: 0.1654 - val_sparse_categorical_accuracy: 1.0000\n",
      "Epoch 14/100\n",
      "11/11 [==============================] - 1s 92ms/step - loss: 0.3911 - sparse_categorical_accuracy: 0.7879 - val_loss: 0.1725 - val_sparse_categorical_accuracy: 1.0000\n",
      "Epoch 15/100\n",
      "11/11 [==============================] - 1s 102ms/step - loss: 0.4523 - sparse_categorical_accuracy: 0.7879 - val_loss: 0.2125 - val_sparse_categorical_accuracy: 0.8667\n",
      "Epoch 16/100\n",
      "11/11 [==============================] - 1s 89ms/step - loss: 0.5513 - sparse_categorical_accuracy: 0.7273 - val_loss: 0.2481 - val_sparse_categorical_accuracy: 0.8667\n",
      "Epoch 17/100\n",
      "11/11 [==============================] - 1s 103ms/step - loss: 0.3284 - sparse_categorical_accuracy: 0.8788 - val_loss: 0.2487 - val_sparse_categorical_accuracy: 0.9333\n",
      "Epoch 18/100\n",
      "11/11 [==============================] - 1s 118ms/step - loss: 0.4290 - sparse_categorical_accuracy: 0.8485 - val_loss: 0.4314 - val_sparse_categorical_accuracy: 0.7333\n",
      "Epoch 19/100\n",
      "11/11 [==============================] - 1s 109ms/step - loss: 0.3898 - sparse_categorical_accuracy: 0.8788 - val_loss: 0.3273 - val_sparse_categorical_accuracy: 0.8000\n",
      "Epoch 20/100\n",
      "11/11 [==============================] - 1s 100ms/step - loss: 0.3984 - sparse_categorical_accuracy: 0.8485 - val_loss: 0.2519 - val_sparse_categorical_accuracy: 0.9333\n",
      "Epoch 21/100\n",
      "11/11 [==============================] - 1s 118ms/step - loss: 0.1735 - sparse_categorical_accuracy: 1.0000 - val_loss: 0.3030 - val_sparse_categorical_accuracy: 0.8667\n",
      "Epoch 22/100\n",
      "11/11 [==============================] - 1s 119ms/step - loss: 0.5809 - sparse_categorical_accuracy: 0.7576 - val_loss: 0.3180 - val_sparse_categorical_accuracy: 0.9333\n",
      "Epoch 23/100\n",
      "11/11 [==============================] - 1s 108ms/step - loss: 0.3602 - sparse_categorical_accuracy: 0.8788 - val_loss: 0.2753 - val_sparse_categorical_accuracy: 0.8667\n",
      "Epoch 24/100\n",
      "11/11 [==============================] - 1s 79ms/step - loss: 0.2528 - sparse_categorical_accuracy: 0.9091 - val_loss: 0.3751 - val_sparse_categorical_accuracy: 0.8667\n",
      "Epoch 25/100\n",
      "11/11 [==============================] - 1s 95ms/step - loss: 0.3563 - sparse_categorical_accuracy: 0.8788 - val_loss: 0.4802 - val_sparse_categorical_accuracy: 0.8667\n",
      "Epoch 26/100\n",
      "11/11 [==============================] - 1s 96ms/step - loss: 0.3214 - sparse_categorical_accuracy: 0.8182 - val_loss: 0.2024 - val_sparse_categorical_accuracy: 1.0000\n",
      "Epoch 27/100\n",
      "11/11 [==============================] - 1s 94ms/step - loss: 0.2634 - sparse_categorical_accuracy: 0.9091 - val_loss: 0.2904 - val_sparse_categorical_accuracy: 0.8667\n",
      "Epoch 28/100\n",
      "11/11 [==============================] - 1s 80ms/step - loss: 0.2876 - sparse_categorical_accuracy: 0.9091 - val_loss: 0.6446 - val_sparse_categorical_accuracy: 0.8667\n",
      "Epoch 29/100\n",
      "11/11 [==============================] - 1s 112ms/step - loss: 0.2662 - sparse_categorical_accuracy: 0.8485 - val_loss: 0.7094 - val_sparse_categorical_accuracy: 0.8667\n",
      "Epoch 30/100\n",
      "11/11 [==============================] - 1s 77ms/step - loss: 0.3646 - sparse_categorical_accuracy: 0.7879 - val_loss: 0.5094 - val_sparse_categorical_accuracy: 0.8667\n",
      "Epoch 31/100\n",
      "11/11 [==============================] - 1s 83ms/step - loss: 0.5752 - sparse_categorical_accuracy: 0.7576 - val_loss: 0.2125 - val_sparse_categorical_accuracy: 0.8667\n",
      "Epoch 32/100\n",
      "11/11 [==============================] - 1s 94ms/step - loss: 0.3912 - sparse_categorical_accuracy: 0.8182 - val_loss: 0.2575 - val_sparse_categorical_accuracy: 0.8667\n",
      "Epoch 33/100\n",
      "11/11 [==============================] - 1s 123ms/step - loss: 0.3612 - sparse_categorical_accuracy: 0.8182 - val_loss: 0.2949 - val_sparse_categorical_accuracy: 0.8667\n",
      "Epoch 34/100\n",
      "11/11 [==============================] - 1s 84ms/step - loss: 0.3853 - sparse_categorical_accuracy: 0.8485 - val_loss: 0.1903 - val_sparse_categorical_accuracy: 0.9333\n",
      "Epoch 35/100\n",
      "11/11 [==============================] - 1s 89ms/step - loss: 0.3126 - sparse_categorical_accuracy: 0.8788 - val_loss: 0.2267 - val_sparse_categorical_accuracy: 0.9333\n",
      "Epoch 36/100\n",
      "11/11 [==============================] - 1s 124ms/step - loss: 0.5073 - sparse_categorical_accuracy: 0.8485 - val_loss: 0.2621 - val_sparse_categorical_accuracy: 0.9333\n",
      "Epoch 37/100\n",
      "11/11 [==============================] - 1s 102ms/step - loss: 0.2721 - sparse_categorical_accuracy: 0.9091 - val_loss: 0.2013 - val_sparse_categorical_accuracy: 1.0000\n",
      "Epoch 38/100\n",
      "11/11 [==============================] - 1s 84ms/step - loss: 0.2173 - sparse_categorical_accuracy: 0.9394 - val_loss: 0.2228 - val_sparse_categorical_accuracy: 0.8667\n",
      "Epoch 39/100\n",
      "11/11 [==============================] - 1s 84ms/step - loss: 0.4179 - sparse_categorical_accuracy: 0.8788 - val_loss: 0.2013 - val_sparse_categorical_accuracy: 0.8667\n",
      "Epoch 40/100\n",
      "11/11 [==============================] - 1s 84ms/step - loss: 0.3280 - sparse_categorical_accuracy: 0.8485 - val_loss: 0.2358 - val_sparse_categorical_accuracy: 0.9333\n",
      "Epoch 41/100\n",
      "11/11 [==============================] - 1s 81ms/step - loss: 0.3620 - sparse_categorical_accuracy: 0.8788 - val_loss: 0.2384 - val_sparse_categorical_accuracy: 0.9333\n",
      "Epoch 42/100\n",
      "11/11 [==============================] - 1s 138ms/step - loss: 0.3110 - sparse_categorical_accuracy: 0.8788 - val_loss: 0.3529 - val_sparse_categorical_accuracy: 0.8000\n",
      "Epoch 43/100\n",
      "11/11 [==============================] - 1s 114ms/step - loss: 0.2839 - sparse_categorical_accuracy: 0.9394 - val_loss: 0.3650 - val_sparse_categorical_accuracy: 0.8667\n",
      "Epoch 44/100\n",
      "11/11 [==============================] - 2s 153ms/step - loss: 0.2799 - sparse_categorical_accuracy: 0.8182 - val_loss: 0.2138 - val_sparse_categorical_accuracy: 0.9333\n",
      "Epoch 45/100\n",
      "11/11 [==============================] - 1s 77ms/step - loss: 0.3195 - sparse_categorical_accuracy: 0.8788 - val_loss: 0.2523 - val_sparse_categorical_accuracy: 0.8667\n",
      "Epoch 46/100\n",
      "11/11 [==============================] - 1s 74ms/step - loss: 0.2348 - sparse_categorical_accuracy: 0.9394 - val_loss: 0.2135 - val_sparse_categorical_accuracy: 0.8667\n",
      "Epoch 47/100\n",
      "11/11 [==============================] - 1s 81ms/step - loss: 0.2655 - sparse_categorical_accuracy: 0.9394 - val_loss: 0.2217 - val_sparse_categorical_accuracy: 0.9333\n",
      "Epoch 48/100\n",
      "11/11 [==============================] - 1s 82ms/step - loss: 0.4306 - sparse_categorical_accuracy: 0.7879 - val_loss: 0.2188 - val_sparse_categorical_accuracy: 0.8667\n",
      "Epoch 49/100\n",
      "11/11 [==============================] - 1s 67ms/step - loss: 0.3836 - sparse_categorical_accuracy: 0.8485 - val_loss: 0.3070 - val_sparse_categorical_accuracy: 0.8667\n",
      "Epoch 50/100\n",
      "11/11 [==============================] - 1s 83ms/step - loss: 0.2727 - sparse_categorical_accuracy: 0.8788 - val_loss: 0.5105 - val_sparse_categorical_accuracy: 0.8667\n",
      "Epoch 51/100\n",
      "11/11 [==============================] - 1s 66ms/step - loss: 0.2871 - sparse_categorical_accuracy: 0.8788 - val_loss: 0.5052 - val_sparse_categorical_accuracy: 0.8667\n",
      "Epoch 52/100\n",
      "11/11 [==============================] - 1s 70ms/step - loss: 0.3326 - sparse_categorical_accuracy: 0.9091 - val_loss: 0.3544 - val_sparse_categorical_accuracy: 0.8667\n",
      "Epoch 53/100\n",
      "11/11 [==============================] - 1s 64ms/step - loss: 0.1949 - sparse_categorical_accuracy: 0.9091 - val_loss: 0.3113 - val_sparse_categorical_accuracy: 0.8667\n",
      "Epoch 54/100\n",
      "11/11 [==============================] - 1s 64ms/step - loss: 0.2237 - sparse_categorical_accuracy: 0.8788 - val_loss: 0.2810 - val_sparse_categorical_accuracy: 0.8667\n",
      "Epoch 55/100\n",
      "11/11 [==============================] - 1s 61ms/step - loss: 0.3219 - sparse_categorical_accuracy: 0.7879 - val_loss: 0.2398 - val_sparse_categorical_accuracy: 0.8667\n",
      "Epoch 56/100\n",
      "11/11 [==============================] - 1s 61ms/step - loss: 0.4284 - sparse_categorical_accuracy: 0.8182 - val_loss: 0.1977 - val_sparse_categorical_accuracy: 0.8667\n",
      "Epoch 57/100\n",
      "11/11 [==============================] - 1s 63ms/step - loss: 0.3972 - sparse_categorical_accuracy: 0.8485 - val_loss: 0.1977 - val_sparse_categorical_accuracy: 0.9333\n",
      "Epoch 58/100\n",
      "11/11 [==============================] - 1s 87ms/step - loss: 0.4329 - sparse_categorical_accuracy: 0.8788 - val_loss: 0.2704 - val_sparse_categorical_accuracy: 0.9333\n",
      "Epoch 59/100\n",
      "11/11 [==============================] - 1s 62ms/step - loss: 0.3820 - sparse_categorical_accuracy: 0.8788 - val_loss: 0.2805 - val_sparse_categorical_accuracy: 0.9333\n",
      "Epoch 60/100\n",
      "11/11 [==============================] - 1s 60ms/step - loss: 0.2106 - sparse_categorical_accuracy: 1.0000 - val_loss: 0.2012 - val_sparse_categorical_accuracy: 0.8000\n",
      "Epoch 61/100\n",
      "11/11 [==============================] - 1s 59ms/step - loss: 0.3041 - sparse_categorical_accuracy: 0.9091 - val_loss: 0.2015 - val_sparse_categorical_accuracy: 0.8667\n",
      "Epoch 62/100\n",
      "11/11 [==============================] - 1s 57ms/step - loss: 0.4086 - sparse_categorical_accuracy: 0.8485 - val_loss: 0.2014 - val_sparse_categorical_accuracy: 0.8667\n",
      "Epoch 63/100\n",
      "11/11 [==============================] - 1s 58ms/step - loss: 0.3705 - sparse_categorical_accuracy: 0.8182 - val_loss: 0.2302 - val_sparse_categorical_accuracy: 0.8667\n",
      "Epoch 64/100\n",
      "11/11 [==============================] - 1s 59ms/step - loss: 0.3268 - sparse_categorical_accuracy: 0.9091 - val_loss: 0.2656 - val_sparse_categorical_accuracy: 0.8667\n",
      "Epoch 65/100\n",
      "11/11 [==============================] - 1s 61ms/step - loss: 0.3054 - sparse_categorical_accuracy: 0.8788 - val_loss: 0.2619 - val_sparse_categorical_accuracy: 0.8667\n",
      "Epoch 66/100\n",
      "11/11 [==============================] - 1s 64ms/step - loss: 0.4722 - sparse_categorical_accuracy: 0.8788 - val_loss: 0.2169 - val_sparse_categorical_accuracy: 0.8667\n",
      "Epoch 67/100\n",
      "11/11 [==============================] - 1s 91ms/step - loss: 0.2560 - sparse_categorical_accuracy: 0.9394 - val_loss: 0.2597 - val_sparse_categorical_accuracy: 0.9333\n",
      "Epoch 68/100\n",
      "11/11 [==============================] - 1s 88ms/step - loss: 0.4934 - sparse_categorical_accuracy: 0.8788 - val_loss: 0.2345 - val_sparse_categorical_accuracy: 0.9333\n",
      "Epoch 69/100\n",
      "11/11 [==============================] - 1s 103ms/step - loss: 0.2809 - sparse_categorical_accuracy: 0.8485 - val_loss: 0.2248 - val_sparse_categorical_accuracy: 0.8667\n",
      "Epoch 70/100\n",
      "11/11 [==============================] - 1s 100ms/step - loss: 0.3177 - sparse_categorical_accuracy: 0.8788 - val_loss: 0.2570 - val_sparse_categorical_accuracy: 0.8667\n",
      "Epoch 71/100\n",
      "11/11 [==============================] - 1s 71ms/step - loss: 0.2727 - sparse_categorical_accuracy: 0.8788 - val_loss: 0.2545 - val_sparse_categorical_accuracy: 0.8667\n",
      "Epoch 72/100\n",
      "11/11 [==============================] - 1s 68ms/step - loss: 0.2772 - sparse_categorical_accuracy: 0.8788 - val_loss: 0.2504 - val_sparse_categorical_accuracy: 0.8667\n",
      "Epoch 73/100\n",
      "11/11 [==============================] - 1s 56ms/step - loss: 0.3004 - sparse_categorical_accuracy: 0.9091 - val_loss: 0.2572 - val_sparse_categorical_accuracy: 0.8667\n",
      "Epoch 74/100\n",
      "11/11 [==============================] - 1s 57ms/step - loss: 0.3813 - sparse_categorical_accuracy: 0.8182 - val_loss: 0.2386 - val_sparse_categorical_accuracy: 0.8667\n",
      "Epoch 75/100\n",
      "11/11 [==============================] - 1s 63ms/step - loss: 0.4538 - sparse_categorical_accuracy: 0.7576 - val_loss: 0.2351 - val_sparse_categorical_accuracy: 0.8667\n",
      "Epoch 76/100\n",
      "11/11 [==============================] - 1s 56ms/step - loss: 0.3300 - sparse_categorical_accuracy: 0.8788 - val_loss: 0.2319 - val_sparse_categorical_accuracy: 0.8667\n",
      "Epoch 77/100\n",
      "11/11 [==============================] - 1s 57ms/step - loss: 0.2746 - sparse_categorical_accuracy: 0.8485 - val_loss: 0.2513 - val_sparse_categorical_accuracy: 0.8667\n",
      "Epoch 78/100\n",
      "11/11 [==============================] - 1s 55ms/step - loss: 0.4237 - sparse_categorical_accuracy: 0.9091 - val_loss: 0.2508 - val_sparse_categorical_accuracy: 0.8667\n",
      "Epoch 79/100\n",
      "11/11 [==============================] - 1s 56ms/step - loss: 0.3397 - sparse_categorical_accuracy: 0.8788 - val_loss: 0.2411 - val_sparse_categorical_accuracy: 0.8667\n",
      "Epoch 80/100\n",
      "11/11 [==============================] - 1s 66ms/step - loss: 0.3213 - sparse_categorical_accuracy: 0.8485 - val_loss: 0.2418 - val_sparse_categorical_accuracy: 0.8667\n",
      "Epoch 81/100\n",
      "11/11 [==============================] - 1s 62ms/step - loss: 0.3567 - sparse_categorical_accuracy: 0.8788 - val_loss: 0.2358 - val_sparse_categorical_accuracy: 0.8000\n",
      "Epoch 82/100\n",
      "11/11 [==============================] - 1s 55ms/step - loss: 0.2480 - sparse_categorical_accuracy: 0.8788 - val_loss: 0.2412 - val_sparse_categorical_accuracy: 0.8667\n",
      "Epoch 83/100\n",
      "11/11 [==============================] - 1s 61ms/step - loss: 0.3637 - sparse_categorical_accuracy: 0.8182 - val_loss: 0.2436 - val_sparse_categorical_accuracy: 0.8667\n",
      "Epoch 84/100\n",
      "11/11 [==============================] - 1s 59ms/step - loss: 0.3635 - sparse_categorical_accuracy: 0.8485 - val_loss: 0.2396 - val_sparse_categorical_accuracy: 0.8667\n",
      "Epoch 85/100\n",
      "11/11 [==============================] - 1s 66ms/step - loss: 0.3720 - sparse_categorical_accuracy: 0.8788 - val_loss: 0.2470 - val_sparse_categorical_accuracy: 0.8667\n",
      "Epoch 86/100\n",
      "11/11 [==============================] - 1s 65ms/step - loss: 0.2442 - sparse_categorical_accuracy: 0.9394 - val_loss: 0.2548 - val_sparse_categorical_accuracy: 0.8667\n",
      "Epoch 87/100\n",
      "11/11 [==============================] - 1s 62ms/step - loss: 0.2962 - sparse_categorical_accuracy: 0.8485 - val_loss: 0.2779 - val_sparse_categorical_accuracy: 0.8667\n",
      "Epoch 88/100\n",
      "11/11 [==============================] - 1s 53ms/step - loss: 0.3005 - sparse_categorical_accuracy: 0.8788 - val_loss: 0.2968 - val_sparse_categorical_accuracy: 0.8667\n",
      "Epoch 89/100\n",
      "11/11 [==============================] - 1s 58ms/step - loss: 0.2502 - sparse_categorical_accuracy: 0.8485 - val_loss: 0.3095 - val_sparse_categorical_accuracy: 0.8667\n",
      "Epoch 90/100\n",
      "11/11 [==============================] - 1s 54ms/step - loss: 0.2822 - sparse_categorical_accuracy: 0.8485 - val_loss: 0.3200 - val_sparse_categorical_accuracy: 0.8667\n",
      "Epoch 91/100\n",
      "11/11 [==============================] - 1s 56ms/step - loss: 0.4660 - sparse_categorical_accuracy: 0.8182 - val_loss: 0.2994 - val_sparse_categorical_accuracy: 0.8667\n",
      "Epoch 92/100\n",
      "11/11 [==============================] - 1s 57ms/step - loss: 0.3340 - sparse_categorical_accuracy: 0.8485 - val_loss: 0.2894 - val_sparse_categorical_accuracy: 0.8667\n",
      "Epoch 93/100\n",
      "11/11 [==============================] - 1s 58ms/step - loss: 0.2141 - sparse_categorical_accuracy: 0.9394 - val_loss: 0.2941 - val_sparse_categorical_accuracy: 0.8667\n",
      "Epoch 94/100\n",
      "11/11 [==============================] - 1s 55ms/step - loss: 0.3285 - sparse_categorical_accuracy: 0.8788 - val_loss: 0.2921 - val_sparse_categorical_accuracy: 0.8667\n",
      "Epoch 95/100\n",
      "11/11 [==============================] - 1s 67ms/step - loss: 0.2249 - sparse_categorical_accuracy: 0.8788 - val_loss: 0.2962 - val_sparse_categorical_accuracy: 0.8667\n",
      "Epoch 96/100\n",
      "11/11 [==============================] - 1s 62ms/step - loss: 0.2509 - sparse_categorical_accuracy: 0.9091 - val_loss: 0.2976 - val_sparse_categorical_accuracy: 0.8667\n",
      "Epoch 97/100\n",
      "11/11 [==============================] - 1s 63ms/step - loss: 0.3052 - sparse_categorical_accuracy: 0.9091 - val_loss: 0.2964 - val_sparse_categorical_accuracy: 0.8667\n",
      "Epoch 98/100\n",
      "11/11 [==============================] - 1s 62ms/step - loss: 0.4427 - sparse_categorical_accuracy: 0.8485 - val_loss: 0.2597 - val_sparse_categorical_accuracy: 0.8667\n",
      "Epoch 99/100\n",
      "11/11 [==============================] - 1s 53ms/step - loss: 0.2419 - sparse_categorical_accuracy: 0.9091 - val_loss: 0.2654 - val_sparse_categorical_accuracy: 0.8667\n",
      "Epoch 100/100\n",
      "11/11 [==============================] - 1s 71ms/step - loss: 0.4130 - sparse_categorical_accuracy: 0.8182 - val_loss: 0.2886 - val_sparse_categorical_accuracy: 0.8667\n"
     ]
    }
   ],
   "source": [
    "epochs = 100\n",
    "batch_size = 3\n",
    "\n",
    "callbacks = [\n",
    "    keras.callbacks.ModelCheckpoint(\n",
    "        \"best_model.h5\", save_best_only=True, monitor=\"val_loss\"\n",
    "    ),\n",
    "    keras.callbacks.ReduceLROnPlateau(\n",
    "        monitor=\"val_loss\", factor=0.5, patience=20, min_lr=0.0001\n",
    "    )#,\n",
    "    #keras.callbacks.EarlyStopping(monitor=\"val_loss\", patience=50, verbose=1),\n",
    "]\n",
    "model.compile(\n",
    "    optimizer=\"adam\",\n",
    "    loss=\"sparse_categorical_crossentropy\",\n",
    "    metrics=[\"sparse_categorical_accuracy\"],\n",
    ")\n",
    "history = model.fit(\n",
    "    X_train,\n",
    "    Y_train,\n",
    "    batch_size=batch_size,\n",
    "    epochs=epochs,\n",
    "    callbacks=callbacks,\n",
    "    validation_split=0.3,\n",
    "    verbose=1,\n",
    ")"
   ]
  },
  {
   "cell_type": "code",
   "execution_count": 26,
   "id": "ddfbc411",
   "metadata": {},
   "outputs": [
    {
     "name": "stdout",
     "output_type": "stream",
     "text": [
      "1/1 [==============================] - 0s 237ms/step - loss: 0.4890 - sparse_categorical_accuracy: 0.8000\n",
      "Test accuracy 0.800000011920929\n",
      "Test loss 0.4890285134315491\n"
     ]
    }
   ],
   "source": [
    "#Test\n",
    "\n",
    "model = keras.models.load_model(\"best_model.h5\")\n",
    "\n",
    "test_loss, test_acc = model.evaluate(X_test, Y_test)\n",
    "\n",
    "\n",
    "print(\"Test accuracy\", test_acc)\n",
    "print(\"Test loss\", test_loss)"
   ]
  },
  {
   "cell_type": "code",
   "execution_count": 27,
   "id": "bd2ec38f-c673-4cb6-92b0-baab28edb745",
   "metadata": {},
   "outputs": [
    {
     "name": "stdout",
     "output_type": "stream",
     "text": [
      "[[0.98000002 0.02       1.        ]\n",
      " [0.95999998 0.04       0.        ]\n",
      " [1.         0.         0.        ]\n",
      " [1.         0.         0.        ]\n",
      " [0.         1.         1.        ]\n",
      " [0.66000003 0.34       1.        ]\n",
      " [0.97000003 0.03       0.        ]\n",
      " [1.         0.         0.        ]\n",
      " [1.         0.         0.        ]\n",
      " [0.         1.         1.        ]\n",
      " [1.         0.         0.        ]\n",
      " [0.83999997 0.16       1.        ]\n",
      " [0.94       0.06       0.        ]\n",
      " [0.95999998 0.04       0.        ]\n",
      " [0.95999998 0.04       0.        ]\n",
      " [0.97000003 0.03       0.        ]\n",
      " [0.86000001 0.14       0.        ]\n",
      " [0.         1.         1.        ]\n",
      " [0.15000001 0.85000002 1.        ]\n",
      " [0.02       0.98000002 1.        ]\n",
      " [0.2        0.80000001 1.        ]\n",
      " [0.73000002 0.27000001 1.        ]\n",
      " [0.95999998 0.04       0.        ]\n",
      " [0.93000001 0.07       1.        ]\n",
      " [0.34       0.66000003 1.        ]]\n"
     ]
    }
   ],
   "source": [
    "print(np.concatenate((np.around(model.predict(X_test),decimals=2),Y_test.reshape(len(Y_test),1)),axis=1))\n"
   ]
  },
  {
   "cell_type": "code",
   "execution_count": 28,
   "id": "1b3fdaba",
   "metadata": {},
   "outputs": [
    {
     "data": {
      "image/png": "[encoded data removed]",
      "text/plain": [
       "<Figure size 432x288 with 1 Axes>"
      ]
     },
     "metadata": {
      "needs_background": "light"
     },
     "output_type": "display_data"
    }
   ],
   "source": [
    "metric = \"loss\"\n",
    "plt.figure()\n",
    "plt.plot(history.history[metric])\n",
    "plt.plot(history.history[\"val_\" + metric])\n",
    "plt.title(\"model \" + metric)\n",
    "plt.ylabel(metric, fontsize=\"large\")\n",
    "plt.xlabel(\"epoch\", fontsize=\"large\")\n",
    "plt.legend([\"train\", \"val\"], loc=\"best\")\n",
    "plt.show()\n",
    "plt.close()\n",
    "\n",
    "# further reading on diagnosing learning curve: \n",
    "# https://machinelearningmastery.com/learning-curves-for-diagnosing-machine-learning-model-performance/"
   ]
  },
  {
   "cell_type": "code",
   "execution_count": null,
   "id": "90445b90-4995-4236-b594-a6930385a726",
   "metadata": {},
   "outputs": [],
   "source": []
  }
 ],
 "metadata": {
  "kernelspec": {
   "display_name": "Python 3 (ipykernel)",
   "language": "python",
   "name": "python3"
  },
  "language_info": {
   "codemirror_mode": {
    "name": "ipython",
    "version": 3
   },
   "file_extension": ".py",
   "mimetype": "text/x-python",
   "name": "python",
   "nbconvert_exporter": "python",
   "pygments_lexer": "ipython3",
   "version": "3.9.7"
  }
 },
 "nbformat": 4,
 "nbformat_minor": 5
}
